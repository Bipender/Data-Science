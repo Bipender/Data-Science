{
 "cells": [
  {
   "cell_type": "markdown",
   "metadata": {},
   "source": [
    "# Python's Collection"
   ]
  },
  {
   "cell_type": "markdown",
   "metadata": {},
   "source": [
    "** There are Four Collection data types in Python **\n",
    "1. List: Collection of ordered and changeable Items. List Allows duplicate elements.\n",
    "2. Dictionaries: Collection of ordered and changeable key-value pair Items. Dictionaries doesn't allow duplicate Items.\n",
    "3. Tuple: Collection of ordered and unchangeable Items. Tuple does allow duplicate elements.\n",
    "4. Sets: Collection of unordered, changeable and indexed. No duplicate elements."
   ]
  },
  {
   "cell_type": "markdown",
   "metadata": {},
   "source": [
    "## Lists"
   ]
  },
  {
   "cell_type": "code",
   "execution_count": 3,
   "metadata": {},
   "outputs": [
    {
     "name": "stdout",
     "output_type": "stream",
     "text": [
      "[1, 2, 3, 4]\n",
      "['Bipender', 'Birendra', 'Mohit']\n"
     ]
    }
   ],
   "source": [
    "myList = [1,2, 3, 4]\n",
    "nameList =list((\"Bipender\",\"Birendra\", \"Mohit\"))\n",
    "print(myList)\n",
    "print(nameList)"
   ]
  },
  {
   "cell_type": "code",
   "execution_count": 7,
   "metadata": {},
   "outputs": [
    {
     "name": "stdout",
     "output_type": "stream",
     "text": [
      "Hello! Bipender\n",
      "Hello! Birendra\n",
      "Hello! Mohit\n"
     ]
    }
   ],
   "source": [
    "for name in nameList:\n",
    "    print(\"Hello! {:s}\".format(name))"
   ]
  },
  {
   "cell_type": "markdown",
   "metadata": {},
   "source": [
    "### List Operations"
   ]
  },
  {
   "cell_type": "code",
   "execution_count": 12,
   "metadata": {},
   "outputs": [
    {
     "name": "stdout",
     "output_type": "stream",
     "text": [
      "['Bipender Singh', 'Birendra', 'Mohit', 'Devender', 'Devender', 'Dharmendra']\n"
     ]
    }
   ],
   "source": [
    "nameList.append('Dharmendra')\n",
    "print(nameList)"
   ]
  },
  {
   "cell_type": "code",
   "execution_count": 13,
   "metadata": {},
   "outputs": [
    {
     "name": "stdout",
     "output_type": "stream",
     "text": [
      "['Bipender Singh', 'Birendra', 'Mohit', 'Devender', 'Devender', 'Dharmendra']\n"
     ]
    }
   ],
   "source": [
    "nameList[0] = \"Bipender Singh\"\n",
    "print(nameList)"
   ]
  },
  {
   "cell_type": "code",
   "execution_count": 11,
   "metadata": {},
   "outputs": [
    {
     "name": "stdout",
     "output_type": "stream",
     "text": [
      "5\n"
     ]
    }
   ],
   "source": [
    "print(len(nameList))"
   ]
  },
  {
   "cell_type": "code",
   "execution_count": 15,
   "metadata": {},
   "outputs": [
    {
     "name": "stdout",
     "output_type": "stream",
     "text": [
      "['Bipender Singh', 'Birendra', 'Mohit', 'Devender', 'Devender', 'Atul', 'Dharmendra']\n"
     ]
    }
   ],
   "source": [
    "nameList.insert(5, 'Atul')\n",
    "print(nameList)"
   ]
  },
  {
   "cell_type": "code",
   "execution_count": 16,
   "metadata": {},
   "outputs": [
    {
     "name": "stdout",
     "output_type": "stream",
     "text": [
      "['Bipender Singh', 'Birendra', 'Mohit', 'Devender', 'Atul', 'Dharmendra']\n"
     ]
    }
   ],
   "source": [
    "nameList.remove('Devender')\n",
    "print(nameList)"
   ]
  },
  {
   "cell_type": "code",
   "execution_count": 17,
   "metadata": {},
   "outputs": [
    {
     "name": "stdout",
     "output_type": "stream",
     "text": [
      "['Bipender Singh', 'Birendra', 'Mohit', 'Devender', 'Atul']\n"
     ]
    }
   ],
   "source": [
    "nameList.pop()\n",
    "print(nameList)"
   ]
  },
  {
   "cell_type": "code",
   "execution_count": 18,
   "metadata": {},
   "outputs": [
    {
     "name": "stdout",
     "output_type": "stream",
     "text": [
      "['Bipender Singh', 'Birendra', 'Mohit', 'Atul']\n"
     ]
    }
   ],
   "source": [
    "del nameList[3]\n",
    "print(nameList)"
   ]
  },
  {
   "cell_type": "markdown",
   "metadata": {},
   "source": [
    "## Tuples"
   ]
  },
  {
   "cell_type": "code",
   "execution_count": 19,
   "metadata": {},
   "outputs": [
    {
     "name": "stdout",
     "output_type": "stream",
     "text": [
      "(1, 2, 3, 4, 5)\n",
      "('a', 'a', 'b', 'c', 'd')\n"
     ]
    }
   ],
   "source": [
    "myTuple= (1,2,3,4,5)\n",
    "myNameTuple = tuple(('a', 'a','b','c','d'))\n",
    "print(myTuple)\n",
    "print(myNameTuple)"
   ]
  },
  {
   "cell_type": "code",
   "execution_count": 20,
   "metadata": {},
   "outputs": [
    {
     "name": "stdout",
     "output_type": "stream",
     "text": [
      "this is a\n",
      "this is a\n",
      "this is b\n",
      "this is c\n",
      "this is d\n"
     ]
    }
   ],
   "source": [
    "for n in myNameTuple:\n",
    "    print(\"this is {:s}\".format(n))"
   ]
  },
  {
   "cell_type": "code",
   "execution_count": 21,
   "metadata": {},
   "outputs": [
    {
     "ename": "TypeError",
     "evalue": "'tuple' object does not support item assignment",
     "output_type": "error",
     "traceback": [
      "\u001b[1;31m---------------------------------------------------------------------------\u001b[0m",
      "\u001b[1;31mTypeError\u001b[0m                                 Traceback (most recent call last)",
      "\u001b[1;32m<ipython-input-21-16dc1190e96b>\u001b[0m in \u001b[0;36m<module>\u001b[1;34m()\u001b[0m\n\u001b[1;32m----> 1\u001b[1;33m \u001b[0mmyNameTuple\u001b[0m\u001b[1;33m[\u001b[0m\u001b[1;36m0\u001b[0m\u001b[1;33m]\u001b[0m\u001b[1;33m=\u001b[0m \u001b[1;34m'z'\u001b[0m\u001b[1;33m\u001b[0m\u001b[0m\n\u001b[0m",
      "\u001b[1;31mTypeError\u001b[0m: 'tuple' object does not support item assignment"
     ]
    }
   ],
   "source": [
    "myNameTuple[0]= 'z'"
   ]
  },
  {
   "cell_type": "markdown",
   "metadata": {},
   "source": [
    "## Sets"
   ]
  },
  {
   "cell_type": "code",
   "execution_count": 1,
   "metadata": {},
   "outputs": [
    {
     "name": "stdout",
     "output_type": "stream",
     "text": [
      "set([1, 2, 3, 4])\n",
      "set([1, 2, 3, 4, 5])\n"
     ]
    }
   ],
   "source": [
    "mySet = {1,2,3,4}\n",
    "print(mySet)\n",
    "mySet_2 = set((1,2,3,4,5))\n",
    "print(mySet_2)"
   ]
  },
  {
   "cell_type": "code",
   "execution_count": null,
   "metadata": {},
   "outputs": [],
   "source": []
  }
 ],
 "metadata": {
  "kernelspec": {
   "display_name": "Python 2",
   "language": "python",
   "name": "python2"
  },
  "language_info": {
   "codemirror_mode": {
    "name": "ipython",
    "version": 2
   },
   "file_extension": ".py",
   "mimetype": "text/x-python",
   "name": "python",
   "nbconvert_exporter": "python",
   "pygments_lexer": "ipython2",
   "version": "2.7.14"
  }
 },
 "nbformat": 4,
 "nbformat_minor": 2
}
